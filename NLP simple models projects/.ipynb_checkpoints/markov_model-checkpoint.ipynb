{
 "cells": [
  {
   "cell_type": "markdown",
   "id": "6693df77",
   "metadata": {},
   "source": [
    "# Markov model"
   ]
  },
  {
   "cell_type": "markdown",
   "id": "257fdcb8",
   "metadata": {},
   "source": [
    "Aim: Predicting the current state of a person after some days"
   ]
  },
  {
   "cell_type": "code",
   "execution_count": 22,
   "id": "737bc1b7",
   "metadata": {},
   "outputs": [],
   "source": [
    "import numpy as np\n",
    "import pandas as pd\n",
    "import random"
   ]
  },
  {
   "cell_type": "code",
   "execution_count": 23,
   "id": "7a0a51b8",
   "metadata": {},
   "outputs": [],
   "source": [
    "states=['Sleep','Netflix','Gym']\n",
    "transitions=[['ss','sg','sn'],['gs','gg','gn'],['ns','ng','nn']]\n",
    "probabilitymatrix=[[0.1,0.7,0.2],[0.6,0.1,0.3],[0.1,0.7,0.2]]"
   ]
  },
  {
   "cell_type": "code",
   "execution_count": 24,
   "id": "d5718ba5",
   "metadata": {},
   "outputs": [],
   "source": [
    "def state(days):\n",
    "    \n",
    "    activityToday='Sleep'\n",
    "    activityList=[activityToday]\n",
    "    i=0\n",
    "    prob=1\n",
    "    \n",
    "    while i!=days:\n",
    "        \n",
    "        if activityToday=='Sleep':\n",
    "                \n",
    "                change=np.random.choice(transitions[0],p=probabilitymatrix[0])\n",
    "                if change=='ss':\n",
    "                    activityToday='Sleep'\n",
    "                    activityList.append(activityToday)\n",
    "                    prob=prob*0.1\n",
    "\n",
    "                elif change=='sg':\n",
    "                    activityToday='Gym'\n",
    "                    activityList.append(activityToday)\n",
    "                    prob=prob*0.7\n",
    "\n",
    "                else:\n",
    "                    activityToday='Netflix'\n",
    "                    activityList.append(activityToday)\n",
    "                    prob=prob*0.2\n",
    "\n",
    "        elif activityToday=='Gym':\n",
    "                change=np.random.choice(transitions[1],p=probabilitymatrix[1])\n",
    "\n",
    "                if change=='gs':\n",
    "                    activityToday='Sleep'\n",
    "                    activityList.append(activityToday)\n",
    "                    prob=prob*0.6\n",
    "\n",
    "                elif change=='gg':\n",
    "                    activityToday='Gym'\n",
    "                    activityList.append(activityToday)\n",
    "                    prob=prob*0.1\n",
    "\n",
    "                else:\n",
    "                    activityToday='Netflix'\n",
    "                    activityList.append(activityToday)\n",
    "                    prob=prob*0.3\n",
    "\n",
    "        else:\n",
    "                change=np.random.choice(transitions[2],p=probabilitymatrix[2])\n",
    "\n",
    "                if change=='ns':\n",
    "                    activityToday='Sleep'\n",
    "                    activityList.append(activityToday)\n",
    "                    prob=prob*0.1\n",
    "\n",
    "                elif change=='ng':\n",
    "                    activityToday='Gym'\n",
    "                    activityList.append(activityToday)\n",
    "                    prob=prob*0.7\n",
    "\n",
    "                else:\n",
    "                    activityToday='Netflix'\n",
    "                    activityList.append(activityToday)\n",
    "                    prob=prob*0.2\n",
    "        i=i+1\n",
    "\n",
    "    print(\"Day:\",days)\n",
    "    print(\"Current Activity:\",activityToday)\n",
    "    print(\"Activity List:\",activityList)    \n",
    "    print('Probability of the state is ',round(prob,5))\n",
    "            \n",
    "        "
   ]
  },
  {
   "cell_type": "code",
   "execution_count": 25,
   "id": "ca17f91c",
   "metadata": {},
   "outputs": [
    {
     "name": "stdout",
     "output_type": "stream",
     "text": [
      "Day: 2\n",
      "Current Activity: Netflix\n",
      "Activity List: ['Sleep', 'Gym', 'Netflix']\n",
      "Probability of the state is  0.21\n"
     ]
    }
   ],
   "source": [
    "state(2)"
   ]
  }
 ],
 "metadata": {
  "kernelspec": {
   "display_name": "Python 3",
   "language": "python",
   "name": "python3"
  },
  "language_info": {
   "codemirror_mode": {
    "name": "ipython",
    "version": 3
   },
   "file_extension": ".py",
   "mimetype": "text/x-python",
   "name": "python",
   "nbconvert_exporter": "python",
   "pygments_lexer": "ipython3",
   "version": "3.8.8"
  }
 },
 "nbformat": 4,
 "nbformat_minor": 5
}
