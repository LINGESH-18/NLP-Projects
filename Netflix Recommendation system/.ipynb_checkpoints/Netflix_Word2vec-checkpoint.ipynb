{
 "cells": [
  {
   "cell_type": "markdown",
   "metadata": {
    "id": "XlrTE0Cal06e"
   },
   "source": [
    "# <font color='#f78fb3'> Netflix Recommendations System - Word2Vec  |<br> </font>  \n",
    "# <font color='#3dc1d3'>  \n",
    "1.  Preprocess data\n",
    "2.  Transfer Learning, using Google Pretrained Data\n",
    "3.  Create Word2Vec Model\n",
    "4.  Content based Recommendation System; Find 'what to watch' based which you movie you watched <br>\n",
    "\n",
    "## <font color='#f9ca24'> Word Embedding\n",
    " <font color='00BFEB'>"
   ]
  },
  {
   "cell_type": "code",
   "execution_count": 1,
   "metadata": {
    "id": "Fc3e06qZDflB"
   },
   "outputs": [
    {
     "name": "stderr",
     "output_type": "stream",
     "text": [
      "[nltk_data] Downloading package stopwords to\n",
      "[nltk_data]     C:\\Users\\HP\\AppData\\Roaming\\nltk_data...\n",
      "[nltk_data]   Package stopwords is already up-to-date!\n"
     ]
    }
   ],
   "source": [
    "import pandas as pd\n",
    "import numpy as np\n",
    "import nltk\n",
    "nltk.download('stopwords')\n",
    "from nltk.corpus import stopwords\n",
    "from sklearn.metrics.pairwise import linear_kernel\n",
    "from sklearn.feature_extraction.text import CountVectorizer\n",
    "from sklearn.feature_extraction.text import TfidfVectorizer\n",
    "from nltk.tokenize import RegexpTokenizer\n",
    "import re\n",
    "import string\n",
    "import random\n",
    "from PIL import Image\n",
    "import requests\n",
    "from io import BytesIO\n",
    "import matplotlib.pyplot as plt\n",
    "%matplotlib inline\n",
    "from sklearn.metrics.pairwise import cosine_similarity\n",
    "#!pip install gensim #Install gensim, a useful NLP library that we will use to load w2v embeddings\n",
    "from gensim.models import Word2Vec\n",
    "from gensim.models.phrases import Phrases, Phraser\n",
    "from matplotlib import pyplot\n",
    "from gensim.models import KeyedVectors\n",
    "import warnings  \n",
    "warnings.filterwarnings('ignore')\n",
    "# warnings.filterwarnings(action='ignore',category=UserWarning,module='gensim')  \n",
    "# warnings.filterwarnings(action='ignore',category=FutureWarning,module='gensim')  "
   ]
  },
  {
   "cell_type": "markdown",
   "metadata": {
    "id": "Z7kENFKFhQoD"
   },
   "source": [
    "<font color='#f78fb3'>Load data "
   ]
  },
  {
   "cell_type": "code",
   "execution_count": 2,
   "metadata": {
    "id": "pjmew0PhHwJ3"
   },
   "outputs": [
    {
     "data": {
      "text/html": [
       "<div>\n",
       "<style scoped>\n",
       "    .dataframe tbody tr th:only-of-type {\n",
       "        vertical-align: middle;\n",
       "    }\n",
       "\n",
       "    .dataframe tbody tr th {\n",
       "        vertical-align: top;\n",
       "    }\n",
       "\n",
       "    .dataframe thead th {\n",
       "        text-align: right;\n",
       "    }\n",
       "</style>\n",
       "<table border=\"1\" class=\"dataframe\">\n",
       "  <thead>\n",
       "    <tr style=\"text-align: right;\">\n",
       "      <th></th>\n",
       "      <th>show_id</th>\n",
       "      <th>type</th>\n",
       "      <th>title</th>\n",
       "      <th>director</th>\n",
       "      <th>cast</th>\n",
       "      <th>country</th>\n",
       "      <th>date_added</th>\n",
       "      <th>release_year</th>\n",
       "      <th>rating</th>\n",
       "      <th>duration</th>\n",
       "      <th>listed_in</th>\n",
       "      <th>description</th>\n",
       "    </tr>\n",
       "  </thead>\n",
       "  <tbody>\n",
       "    <tr>\n",
       "      <th>0</th>\n",
       "      <td>81145628</td>\n",
       "      <td>Movie</td>\n",
       "      <td>Norm of the North: King Sized Adventure</td>\n",
       "      <td>Richard Finn, Tim Maltby</td>\n",
       "      <td>Alan Marriott, Andrew Toth, Brian Dobson, Cole...</td>\n",
       "      <td>United States, India, South Korea, China</td>\n",
       "      <td>September 9, 2019</td>\n",
       "      <td>2019</td>\n",
       "      <td>TV-PG</td>\n",
       "      <td>90 min</td>\n",
       "      <td>Children &amp; Family Movies, Comedies</td>\n",
       "      <td>Before planning an awesome wedding for his gra...</td>\n",
       "    </tr>\n",
       "    <tr>\n",
       "      <th>1</th>\n",
       "      <td>80117401</td>\n",
       "      <td>Movie</td>\n",
       "      <td>Jandino: Whatever it Takes</td>\n",
       "      <td>NaN</td>\n",
       "      <td>Jandino Asporaat</td>\n",
       "      <td>United Kingdom</td>\n",
       "      <td>September 9, 2016</td>\n",
       "      <td>2016</td>\n",
       "      <td>TV-MA</td>\n",
       "      <td>94 min</td>\n",
       "      <td>Stand-Up Comedy</td>\n",
       "      <td>Jandino Asporaat riffs on the challenges of ra...</td>\n",
       "    </tr>\n",
       "    <tr>\n",
       "      <th>2</th>\n",
       "      <td>70234439</td>\n",
       "      <td>TV Show</td>\n",
       "      <td>Transformers Prime</td>\n",
       "      <td>NaN</td>\n",
       "      <td>Peter Cullen, Sumalee Montano, Frank Welker, J...</td>\n",
       "      <td>United States</td>\n",
       "      <td>September 8, 2018</td>\n",
       "      <td>2013</td>\n",
       "      <td>TV-Y7-FV</td>\n",
       "      <td>1 Season</td>\n",
       "      <td>Kids' TV</td>\n",
       "      <td>With the help of three human allies, the Autob...</td>\n",
       "    </tr>\n",
       "    <tr>\n",
       "      <th>3</th>\n",
       "      <td>80058654</td>\n",
       "      <td>TV Show</td>\n",
       "      <td>Transformers: Robots in Disguise</td>\n",
       "      <td>NaN</td>\n",
       "      <td>Will Friedle, Darren Criss, Constance Zimmer, ...</td>\n",
       "      <td>United States</td>\n",
       "      <td>September 8, 2018</td>\n",
       "      <td>2016</td>\n",
       "      <td>TV-Y7</td>\n",
       "      <td>1 Season</td>\n",
       "      <td>Kids' TV</td>\n",
       "      <td>When a prison ship crash unleashes hundreds of...</td>\n",
       "    </tr>\n",
       "    <tr>\n",
       "      <th>4</th>\n",
       "      <td>80125979</td>\n",
       "      <td>Movie</td>\n",
       "      <td>#realityhigh</td>\n",
       "      <td>Fernando Lebrija</td>\n",
       "      <td>Nesta Cooper, Kate Walsh, John Michael Higgins...</td>\n",
       "      <td>United States</td>\n",
       "      <td>September 8, 2017</td>\n",
       "      <td>2017</td>\n",
       "      <td>TV-14</td>\n",
       "      <td>99 min</td>\n",
       "      <td>Comedies</td>\n",
       "      <td>When nerdy high schooler Dani finally attracts...</td>\n",
       "    </tr>\n",
       "  </tbody>\n",
       "</table>\n",
       "</div>"
      ],
      "text/plain": [
       "    show_id     type                                    title  \\\n",
       "0  81145628    Movie  Norm of the North: King Sized Adventure   \n",
       "1  80117401    Movie               Jandino: Whatever it Takes   \n",
       "2  70234439  TV Show                       Transformers Prime   \n",
       "3  80058654  TV Show         Transformers: Robots in Disguise   \n",
       "4  80125979    Movie                             #realityhigh   \n",
       "\n",
       "                   director  \\\n",
       "0  Richard Finn, Tim Maltby   \n",
       "1                       NaN   \n",
       "2                       NaN   \n",
       "3                       NaN   \n",
       "4          Fernando Lebrija   \n",
       "\n",
       "                                                cast  \\\n",
       "0  Alan Marriott, Andrew Toth, Brian Dobson, Cole...   \n",
       "1                                   Jandino Asporaat   \n",
       "2  Peter Cullen, Sumalee Montano, Frank Welker, J...   \n",
       "3  Will Friedle, Darren Criss, Constance Zimmer, ...   \n",
       "4  Nesta Cooper, Kate Walsh, John Michael Higgins...   \n",
       "\n",
       "                                    country         date_added  release_year  \\\n",
       "0  United States, India, South Korea, China  September 9, 2019          2019   \n",
       "1                            United Kingdom  September 9, 2016          2016   \n",
       "2                             United States  September 8, 2018          2013   \n",
       "3                             United States  September 8, 2018          2016   \n",
       "4                             United States  September 8, 2017          2017   \n",
       "\n",
       "     rating  duration                           listed_in  \\\n",
       "0     TV-PG    90 min  Children & Family Movies, Comedies   \n",
       "1     TV-MA    94 min                     Stand-Up Comedy   \n",
       "2  TV-Y7-FV  1 Season                            Kids' TV   \n",
       "3     TV-Y7  1 Season                            Kids' TV   \n",
       "4     TV-14    99 min                            Comedies   \n",
       "\n",
       "                                         description  \n",
       "0  Before planning an awesome wedding for his gra...  \n",
       "1  Jandino Asporaat riffs on the challenges of ra...  \n",
       "2  With the help of three human allies, the Autob...  \n",
       "3  When a prison ship crash unleashes hundreds of...  \n",
       "4  When nerdy high schooler Dani finally attracts...  "
      ]
     },
     "execution_count": 2,
     "metadata": {},
     "output_type": "execute_result"
    }
   ],
   "source": [
    "data=pd.read_csv('netflix_titles.csv')\n",
    "data.head()"
   ]
  },
  {
   "cell_type": "code",
   "execution_count": 3,
   "metadata": {
    "id": "r8DNpezeHwXX"
   },
   "outputs": [
    {
     "data": {
      "text/plain": [
       "6234"
      ]
     },
     "execution_count": 3,
     "metadata": {},
     "output_type": "execute_result"
    }
   ],
   "source": [
    "data.description.count()"
   ]
  },
  {
   "cell_type": "code",
   "execution_count": 4,
   "metadata": {},
   "outputs": [
    {
     "data": {
      "text/plain": [
       "'Before planning an awesome wedding for his grandfather, a polar bear king must take back a stolen artifact from an evil archaeologist first.'"
      ]
     },
     "execution_count": 4,
     "metadata": {},
     "output_type": "execute_result"
    }
   ],
   "source": [
    "data.description[0]"
   ]
  },
  {
   "cell_type": "code",
   "execution_count": 5,
   "metadata": {},
   "outputs": [
    {
     "data": {
      "text/plain": [
       "'Norm of the North: King Sized Adventure'"
      ]
     },
     "execution_count": 5,
     "metadata": {},
     "output_type": "execute_result"
    }
   ],
   "source": [
    "data.title[0]"
   ]
  },
  {
   "cell_type": "markdown",
   "metadata": {
    "id": "Dry8f3zJG0vt"
   },
   "source": [
    "### <font color='#f78fb3'>only show columns of interest"
   ]
  },
  {
   "cell_type": "code",
   "execution_count": 6,
   "metadata": {
    "id": "wFi2MSIfIU0E"
   },
   "outputs": [
    {
     "data": {
      "text/html": [
       "<div>\n",
       "<style scoped>\n",
       "    .dataframe tbody tr th:only-of-type {\n",
       "        vertical-align: middle;\n",
       "    }\n",
       "\n",
       "    .dataframe tbody tr th {\n",
       "        vertical-align: top;\n",
       "    }\n",
       "\n",
       "    .dataframe thead th {\n",
       "        text-align: right;\n",
       "    }\n",
       "</style>\n",
       "<table border=\"1\" class=\"dataframe\">\n",
       "  <thead>\n",
       "    <tr style=\"text-align: right;\">\n",
       "      <th></th>\n",
       "      <th>title</th>\n",
       "      <th>description</th>\n",
       "      <th>listed_in</th>\n",
       "    </tr>\n",
       "  </thead>\n",
       "  <tbody>\n",
       "    <tr>\n",
       "      <th>0</th>\n",
       "      <td>Norm of the North: King Sized Adventure</td>\n",
       "      <td>Before planning an awesome wedding for his gra...</td>\n",
       "      <td>Children &amp; Family Movies, Comedies</td>\n",
       "    </tr>\n",
       "    <tr>\n",
       "      <th>1</th>\n",
       "      <td>Jandino: Whatever it Takes</td>\n",
       "      <td>Jandino Asporaat riffs on the challenges of ra...</td>\n",
       "      <td>Stand-Up Comedy</td>\n",
       "    </tr>\n",
       "  </tbody>\n",
       "</table>\n",
       "</div>"
      ],
      "text/plain": [
       "                                     title  \\\n",
       "0  Norm of the North: King Sized Adventure   \n",
       "1               Jandino: Whatever it Takes   \n",
       "\n",
       "                                         description  \\\n",
       "0  Before planning an awesome wedding for his gra...   \n",
       "1  Jandino Asporaat riffs on the challenges of ra...   \n",
       "\n",
       "                            listed_in  \n",
       "0  Children & Family Movies, Comedies  \n",
       "1                     Stand-Up Comedy  "
      ]
     },
     "execution_count": 6,
     "metadata": {},
     "output_type": "execute_result"
    }
   ],
   "source": [
    "df=data[['title','description','listed_in']]\n",
    "df.head(2)"
   ]
  },
  {
   "cell_type": "code",
   "execution_count": 7,
   "metadata": {
    "id": "QB8mn1YBnSD-"
   },
   "outputs": [
    {
     "data": {
      "text/plain": [
       "title          0\n",
       "description    0\n",
       "listed_in      0\n",
       "dtype: int64"
      ]
     },
     "execution_count": 7,
     "metadata": {},
     "output_type": "execute_result"
    }
   ],
   "source": [
    "df.isnull().sum()"
   ]
  },
  {
   "cell_type": "markdown",
   "metadata": {
    "id": "slOsQcXLyJTo"
   },
   "source": [
    "### <font color='#f78fb3'>Visualize the length of descriptions"
   ]
  },
  {
   "cell_type": "code",
   "execution_count": 8,
   "metadata": {
    "id": "hGW8opKDiHUa"
   },
   "outputs": [
    {
     "data": {
      "text/plain": [
       "0       23\n",
       "1       25\n",
       "2       23\n",
       "3       20\n",
       "4       26\n",
       "        ..\n",
       "6229    24\n",
       "6230    24\n",
       "6231    21\n",
       "6232    23\n",
       "6233    24\n",
       "Name: word_count, Length: 6234, dtype: int64"
      ]
     },
     "execution_count": 8,
     "metadata": {},
     "output_type": "execute_result"
    }
   ],
   "source": [
    "df['word_count']=df['description'].apply(lambda x: len(x.split()))\n",
    "df['word_count']"
   ]
  },
  {
   "cell_type": "code",
   "execution_count": 9,
   "metadata": {},
   "outputs": [
    {
     "data": {
      "image/png": "[encoded data removed]",
      "text/plain": [
       "<Figure size 432x288 with 1 Axes>"
      ]
     },
     "metadata": {
      "needs_background": "light"
     },
     "output_type": "display_data"
    }
   ],
   "source": [
    "ax=df['word_count'].plot(\n",
    "kind='hist',bins=6,title='wordCount distribution of Netflix description')\n",
    "ax.yaxis.label.set_color('green')\n",
    "ax.xaxis.label.set_color('green')\n",
    "ax.tick_params(axis='x',colors='brown')\n",
    "ax.tick_params(axis='y',colors='brown')"
   ]
  },
  {
   "cell_type": "markdown",
   "metadata": {
    "id": "Qqfy6u93lz5N"
   },
   "source": [
    "<font color='#3dc1d3'> Ensure Descriptions only contain strings; not float dtyp; Pandas astype() is the one of the most important methods. It is used to change data type of a series. When data frame is made from a csv file, the columns are imported and data type is set automatically which many times is not what it actually should have. For example, a salary column could be imported as string but to do operations we have to convert it into float. In this case, the series in description column; the dtype needs to be converted to string, ensure it is not float\n",
    "astype() is used to do such data type conversions."
   ]
  },
  {
   "cell_type": "code",
   "execution_count": 10,
   "metadata": {
    "id": "FE8HlDWpNe1z"
   },
   "outputs": [],
   "source": [
    "df['desciption']=df['description'].astype(str)"
   ]
  },
  {
   "cell_type": "markdown",
   "metadata": {
    "id": "eUVePvpJHpJd"
   },
   "source": [
    " ### <font color='#f9ca24'> Preprocessing (cleaning) the Descriptions. <br>\n",
    " <font color='#3dc1d3'> Non-ASCII characters: भारत hindi;\n",
    ".网络 Chinese; Hebrew\n",
    ".קום, Arabic <br> Ascii - english based letters/digits/"
   ]
  },
  {
   "cell_type": "code",
   "execution_count": 17,
   "metadata": {
    "id": "WZyYy5yZJOtm"
   },
   "outputs": [],
   "source": [
    "import re\n",
    "def prepocessing(text):\n",
    "    text=[i.lower() for i in text if ord(i)<128]\n",
    "    text=''.join(text)\n",
    "    text=text.split()\n",
    "    stops=set(stopwords.words('english'))\n",
    "    text=[i for i in text if not i in stops ]\n",
    "    text=' '.join(text)\n",
    "    token=RegexpTokenizer(r'\\w+')\n",
    "    text=token.tokenize(text)\n",
    "    text=' '.join(text)\n",
    "    html=re.compile('<.*?>')\n",
    "    text=html.sub('',text)\n",
    "    return text"
   ]
  },
  {
   "cell_type": "code",
   "execution_count": 18,
   "metadata": {},
   "outputs": [],
   "source": [
    "data['prepocessed_desc']=data['description'].apply(lambda x:prepocessing(x))"
   ]
  },
  {
   "cell_type": "markdown",
   "metadata": {
    "id": "WfkcQmEH21hT"
   },
   "source": [
    " <font color='#3dc1d3'>A new column is created to store the cleaned, preprocessed descriptions."
   ]
  },
  {
   "cell_type": "code",
   "execution_count": 19,
   "metadata": {
    "id": "SOOpZavd25Pj"
   },
   "outputs": [
    {
     "data": {
      "text/plain": [
       "0       planning awesome wedding grandfather polar bea...\n",
       "1       jandino asporaat riffs challenges raising kids...\n",
       "2       help three human allies autobots protect earth...\n",
       "3       prison ship crash unleashes hundreds deceptico...\n",
       "4       nerdy high schooler dani finally attracts inte...\n",
       "                              ...                        \n",
       "6229    parody first person shooter games military lif...\n",
       "6230    marc maron stars marc maron interviews fellow ...\n",
       "6231    nursery rhymes original music children accompa...\n",
       "6232    set russian revolution comic miniseries based ...\n",
       "6233    hit sitcom follows merry misadventures six 20 ...\n",
       "Name: prepocessed_desc, Length: 6234, dtype: object"
      ]
     },
     "execution_count": 19,
     "metadata": {},
     "output_type": "execute_result"
    }
   ],
   "source": [
    "data.prepocessed_desc"
   ]
  },
  {
   "cell_type": "markdown",
   "metadata": {
    "id": "w9xYIooCOH0x"
   },
   "source": [
    "<font color='#f9ca24'>Start Work on the Word2Vec Model<br><font color='#f78fb3'>Splitting the descriptions into words and stored in a list called ‘universe’; universe is essentially our corpus used for training our word2vec model<br>The word2vec tool takes a text corpus as input and produces the word vectors as output. It first constructs a vocabulary from the training text data and then learns vector representation of words. The resulting word vector file can be used as features in many natural language processing and machine learning applications.<br><font color='#f78fb3'>Word tokenization; break up description into word chunks"
   ]
  },
  {
   "cell_type": "code",
   "execution_count": null,
   "metadata": {
    "id": "I6HhqiSRsHFi"
   },
   "outputs": [],
   "source": [
    "universe=[]\n",
    "for words in data['prepocessed_desc']:\n",
    "    universe.append(words.split())"
   ]
  },
  {
   "cell_type": "code",
   "execution_count": null,
   "metadata": {
    "id": "-EMUEQV82nyH"
   },
   "outputs": [],
   "source": []
  },
  {
   "cell_type": "markdown",
   "metadata": {
    "id": "rQOUn8_4s0HW"
   },
   "source": [
    "<font color='#f9ca24'>Transfer Learning<br><font color='#f78fb3'>using the word2vec pre-trained Google News model (GoogleNews-vectors-negative300) with the gensim Python library.<br>get GoogleNews pretrained data<br> takes a few seconds to load in gensim"
   ]
  },
  {
   "cell_type": "code",
   "execution_count": 22,
   "metadata": {
    "id": "TIe70-i-Nu65"
   },
   "outputs": [
    {
     "name": "stderr",
     "output_type": "stream",
     "text": [
      "'wget' is not recognized as an internal or external command,\n",
      "operable program or batch file.\n"
     ]
    }
   ],
   "source": [
    "!wget -P /root/input/ -c \"https://s3.amazonaws.com/dl4j-distribution/GoogleNews-vectors-negative300.bin.gz\""
   ]
  },
  {
   "cell_type": "markdown",
   "metadata": {
    "id": "r3dKlCXK3rme"
   },
   "source": [
    "<font color='#f78fb3'>embedding_file as the GoogleNews-vectors-negative300 file"
   ]
  },
  {
   "cell_type": "code",
   "execution_count": 23,
   "metadata": {
    "id": "5HG4qLuDNvCC"
   },
   "outputs": [],
   "source": [
    "EMBEDDING_FILE = '/root/input/GoogleNews-vectors-negative300.bin.gz'"
   ]
  },
  {
   "cell_type": "markdown",
   "metadata": {
    "id": "Is5SZ9x9DNkK"
   },
   "source": [
    "<font color='#f78fb3'>Training corpus with Google Pretrained Model "
   ]
  },
  {
   "cell_type": "code",
   "execution_count": null,
   "metadata": {
    "id": "MI4raOMHr-zL"
   },
   "outputs": [],
   "source": []
  },
  {
   "cell_type": "markdown",
   "metadata": {
    "id": "1BBxgzLnGxnB"
   },
   "source": [
    "<font color='#f78fb3'>Above: intersect_word2vec_format() <br>Merge the input-hidden weight matrix from the original word2vec format given, where it intersects with the current vocabulary/universe corpus. (What you need to note here: No words are added to the existing vocabulary, but intersecting words adopt the file’s weights, and non-intersecting words are left alone.)<br>binary is a boolean indicating whether the data is in binary word2vec format.<br>lockf is a lock-factor value to be set for any imported word-vectors; the default value of 0.0 prevents further updating of the vector during subsequent training. Use 1.0 to allow further training updates of merged vectors.<br>\n",
    "<br>\n",
    "The parameters:\n",
    "min_count =  Ignores all words with total absolute frequency lower than this - (2, 100)<br>\n",
    "window = The maximum distance between the current and predicted word within a sentence. E.g. window words on the left and window words on the left of our target - (2, 10)<br>\n",
    "size = int - Dimensionality of the feature vectors. - (50, 300)<br>\n",
    "sample = float - The threshold for configuring which higher-frequency words are randomly downsampled. Highly influencial. - (0, 1e-5) <br> \n",
    "workers = int - Use these many worker threads to train the model (=faster training with multicore machines)<br>\n",
    "Word2Vec needs a vocabulary; (taking in the tokens and filtering out the unique ones"
   ]
  },
  {
   "cell_type": "markdown",
   "metadata": {
    "id": "LDOvwAPRetHp"
   },
   "source": [
    "<font color='#3dc1d3'>Try out the similarity between words; after intersecting with our corpus-universe"
   ]
  },
  {
   "cell_type": "code",
   "execution_count": null,
   "metadata": {
    "id": "46512qtOXMeJ"
   },
   "outputs": [],
   "source": []
  },
  {
   "cell_type": "code",
   "execution_count": null,
   "metadata": {
    "id": "2YSMJuAzXi9R"
   },
   "outputs": [],
   "source": []
  },
  {
   "cell_type": "code",
   "execution_count": null,
   "metadata": {
    "id": "DgJUywyMXa6D"
   },
   "outputs": [],
   "source": []
  },
  {
   "cell_type": "code",
   "execution_count": null,
   "metadata": {
    "id": "PnteSNRCaZTq"
   },
   "outputs": [],
   "source": []
  },
  {
   "cell_type": "markdown",
   "metadata": {
    "id": "oaSS1LSrZMOT"
   },
   "source": [
    "<font color='#f78fb3'>The function Vectorize() defines the average word2vec for each Netflix description"
   ]
  },
  {
   "cell_type": "code",
   "execution_count": null,
   "metadata": {
    "id": "7vm69CqdZMYq"
   },
   "outputs": [],
   "source": []
  },
  {
   "cell_type": "markdown",
   "metadata": {
    "id": "qb6q5ireJnHE"
   },
   "source": [
    "<font color='#f78fb3'>define the function to find the top 5 most similar/recommended Netflix shows, based on the one you previously watched.<br>Invert index; we have a dictionary of characters/embeddings from Description mapped to their titles, and we want to convert that to a dictionary of titles mapped to the characters that have them.<br> We trained on the descriptions of the Netflix shows but we want to search/match based on a title. "
   ]
  },
  {
   "cell_type": "code",
   "execution_count": null,
   "metadata": {
    "id": "IQ3Yvt6wZU8n"
   },
   "outputs": [],
   "source": []
  },
  {
   "cell_type": "markdown",
   "metadata": {
    "id": "1OqdX_4cJ68Q"
   },
   "source": [
    "<font color='#f9ca24'> Netflix Recommendations "
   ]
  },
  {
   "cell_type": "code",
   "execution_count": 16,
   "metadata": {
    "id": "ZdM8xACAZdL0"
   },
   "outputs": [
    {
     "ename": "NameError",
     "evalue": "name 'netflix_because_you_watched' is not defined",
     "output_type": "error",
     "traceback": [
      "\u001b[1;31m---------------------------------------------------------------------------\u001b[0m",
      "\u001b[1;31mNameError\u001b[0m                                 Traceback (most recent call last)",
      "\u001b[1;32m<ipython-input-16-abc5b0a6d514>\u001b[0m in \u001b[0;36m<module>\u001b[1;34m\u001b[0m\n\u001b[1;32m----> 1\u001b[1;33m \u001b[0mnetflix_because_you_watched\u001b[0m\u001b[1;33m(\u001b[0m\u001b[1;34m\"Transformers Prime\"\u001b[0m\u001b[1;33m)\u001b[0m\u001b[1;33m\u001b[0m\u001b[1;33m\u001b[0m\u001b[0m\n\u001b[0m",
      "\u001b[1;31mNameError\u001b[0m: name 'netflix_because_you_watched' is not defined"
     ]
    }
   ],
   "source": [
    "netflix_because_you_watched(\"Transformers Prime\")"
   ]
  },
  {
   "cell_type": "code",
   "execution_count": null,
   "metadata": {
    "id": "lzERNAAseuTI"
   },
   "outputs": [],
   "source": [
    "netflix_because_you_watched(\"Friends\")"
   ]
  },
  {
   "cell_type": "code",
   "execution_count": null,
   "metadata": {
    "id": "6aNH46W-gQI_"
   },
   "outputs": [],
   "source": []
  },
  {
   "cell_type": "code",
   "execution_count": null,
   "metadata": {
    "id": "SkOrZsYORKy5"
   },
   "outputs": [],
   "source": []
  }
 ],
 "metadata": {
  "accelerator": "GPU",
  "colab": {
   "collapsed_sections": [],
   "name": "Netflix_Word2vec.ipynb",
   "provenance": []
  },
  "kernelspec": {
   "display_name": "Python 3",
   "language": "python",
   "name": "python3"
  },
  "language_info": {
   "codemirror_mode": {
    "name": "ipython",
    "version": 3
   },
   "file_extension": ".py",
   "mimetype": "text/x-python",
   "name": "python",
   "nbconvert_exporter": "python",
   "pygments_lexer": "ipython3",
   "version": "3.8.8"
  }
 },
 "nbformat": 4,
 "nbformat_minor": 1
}
