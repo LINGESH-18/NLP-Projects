{
 "cells": [
  {
   "cell_type": "markdown",
   "metadata": {
    "id": "U4UWbW3kKbC4"
   },
   "source": [
    "**Aim**:\n",
    "\n",
    "Predicting the game can be bought(RECOMMENDED) or not(DON'T BUY) by the reviews in the given dataset \n",
    "\n",
    "using Spacy "
   ]
  },
  {
   "cell_type": "code",
   "execution_count": 5,
   "metadata": {
    "colab": {
     "base_uri": "https://localhost:8080/",
     "height": 73,
     "resources": {
      "http://localhost:8080/nbextensions/google.colab/files.js": {
       "data": "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",
       "headers": [
        [
         "content-type",
         "application/javascript"
        ]
       ],
       "ok": true,
       "status": 200,
       "status_text": ""
      }
     }
    },
    "id": "HVGDMBxb3P2Y",
    "outputId": "98abd76a-1bcf-4bca-884c-cf5e354b6a79"
   },
   "outputs": [
    {
     "data": {
      "text/html": [
       "\n",
       "     <input type=\"file\" id=\"files-8dba13df-5b7a-4fdf-a3f4-fa4c3127e36f\" name=\"files[]\" multiple disabled\n",
       "        style=\"border:none\" />\n",
       "     <output id=\"result-8dba13df-5b7a-4fdf-a3f4-fa4c3127e36f\">\n",
       "      Upload widget is only available when the cell has been executed in the\n",
       "      current browser session. Please rerun this cell to enable.\n",
       "      </output>\n",
       "      <script src=\"/nbextensions/google.colab/files.js\"></script> "
      ],
      "text/plain": [
       "<IPython.core.display.HTML object>"
      ]
     },
     "metadata": {},
     "output_type": "display_data"
    },
    {
     "name": "stdout",
     "output_type": "stream",
     "text": [
      "Saving steamreviews (1).zip to steamreviews (1) (1).zip\n"
     ]
    }
   ],
   "source": [
    "from google.colab import files\n",
    "upload=files.upload()"
   ]
  },
  {
   "cell_type": "code",
   "execution_count": 8,
   "metadata": {
    "colab": {
     "base_uri": "https://localhost:8080/"
    },
    "id": "zVJw58GW4K3m",
    "outputId": "93d0b203-fc76-43e3-e9e1-f705fc712122"
   },
   "outputs": [
    {
     "name": "stdout",
     "output_type": "stream",
     "text": [
      "Archive:  steamreviews (1) (1).zip\n",
      "  inflating: train.csv               \n"
     ]
    }
   ],
   "source": [
    "!unzip steamreviews\\ \\(1\\)\\ \\(1\\).zip"
   ]
  },
  {
   "cell_type": "code",
   "execution_count": 115,
   "metadata": {
    "id": "je-jzDqB4K67"
   },
   "outputs": [],
   "source": [
    "import pandas as pd\n",
    "import spacy\n",
    "import seaborn as sns\n",
    "import matplotlib.pyplot as plt\n",
    "from warnings import filterwarnings\n",
    "import random\n",
    "\n",
    "filterwarnings('ignore')\n",
    "sns.set(style='darkgrid')\n",
    "sns.set(font_scale=1.3)"
   ]
  },
  {
   "cell_type": "code",
   "execution_count": 116,
   "metadata": {
    "colab": {
     "base_uri": "https://localhost:8080/",
     "height": 206
    },
    "id": "0GrwtBzB48Qi",
    "outputId": "e756f537-d11a-4b15-b6a2-b058fee83258"
   },
   "outputs": [
    {
     "data": {
      "text/html": [
       "\n",
       "  <div id=\"df-e0fca9fb-2a38-408d-876a-01ed18fec4e8\">\n",
       "    <div class=\"colab-df-container\">\n",
       "      <div>\n",
       "<style scoped>\n",
       "    .dataframe tbody tr th:only-of-type {\n",
       "        vertical-align: middle;\n",
       "    }\n",
       "\n",
       "    .dataframe tbody tr th {\n",
       "        vertical-align: top;\n",
       "    }\n",
       "\n",
       "    .dataframe thead th {\n",
       "        text-align: right;\n",
       "    }\n",
       "</style>\n",
       "<table border=\"1\" class=\"dataframe\">\n",
       "  <thead>\n",
       "    <tr style=\"text-align: right;\">\n",
       "      <th></th>\n",
       "      <th>review_id</th>\n",
       "      <th>title</th>\n",
       "      <th>year</th>\n",
       "      <th>user_review</th>\n",
       "      <th>user_suggestion</th>\n",
       "    </tr>\n",
       "  </thead>\n",
       "  <tbody>\n",
       "    <tr>\n",
       "      <th>0</th>\n",
       "      <td>1</td>\n",
       "      <td>Spooky's Jump Scare Mansion</td>\n",
       "      <td>2016.0</td>\n",
       "      <td>I'm scared and hearing creepy voices.  So I'll...</td>\n",
       "      <td>1</td>\n",
       "    </tr>\n",
       "    <tr>\n",
       "      <th>1</th>\n",
       "      <td>2</td>\n",
       "      <td>Spooky's Jump Scare Mansion</td>\n",
       "      <td>2016.0</td>\n",
       "      <td>Best game, more better than Sam Pepper's YouTu...</td>\n",
       "      <td>1</td>\n",
       "    </tr>\n",
       "    <tr>\n",
       "      <th>2</th>\n",
       "      <td>3</td>\n",
       "      <td>Spooky's Jump Scare Mansion</td>\n",
       "      <td>2016.0</td>\n",
       "      <td>A littly iffy on the controls, but once you kn...</td>\n",
       "      <td>1</td>\n",
       "    </tr>\n",
       "    <tr>\n",
       "      <th>3</th>\n",
       "      <td>4</td>\n",
       "      <td>Spooky's Jump Scare Mansion</td>\n",
       "      <td>2015.0</td>\n",
       "      <td>Great game, fun and colorful and all that.A si...</td>\n",
       "      <td>1</td>\n",
       "    </tr>\n",
       "    <tr>\n",
       "      <th>4</th>\n",
       "      <td>5</td>\n",
       "      <td>Spooky's Jump Scare Mansion</td>\n",
       "      <td>2015.0</td>\n",
       "      <td>Not many games have the cute tag right next to...</td>\n",
       "      <td>1</td>\n",
       "    </tr>\n",
       "  </tbody>\n",
       "</table>\n",
       "</div>\n",
       "      <button class=\"colab-df-convert\" onclick=\"convertToInteractive('df-e0fca9fb-2a38-408d-876a-01ed18fec4e8')\"\n",
       "              title=\"Convert this dataframe to an interactive table.\"\n",
       "              style=\"display:none;\">\n",
       "        \n",
       "  <svg xmlns=\"http://www.w3.org/2000/svg\" height=\"24px\"viewBox=\"0 0 24 24\"\n",
       "       width=\"24px\">\n",
       "    <path d=\"M0 0h24v24H0V0z\" fill=\"none\"/>\n",
       "    <path d=\"M18.56 5.44l.94 2.06.94-2.06 2.06-.94-2.06-.94-.94-2.06-.94 2.06-2.06.94zm-11 1L8.5 8.5l.94-2.06 2.06-.94-2.06-.94L8.5 2.5l-.94 2.06-2.06.94zm10 10l.94 2.06.94-2.06 2.06-.94-2.06-.94-.94-2.06-.94 2.06-2.06.94z\"/><path d=\"M17.41 7.96l-1.37-1.37c-.4-.4-.92-.59-1.43-.59-.52 0-1.04.2-1.43.59L10.3 9.45l-7.72 7.72c-.78.78-.78 2.05 0 2.83L4 21.41c.39.39.9.59 1.41.59.51 0 1.02-.2 1.41-.59l7.78-7.78 2.81-2.81c.8-.78.8-2.07 0-2.86zM5.41 20L4 18.59l7.72-7.72 1.47 1.35L5.41 20z\"/>\n",
       "  </svg>\n",
       "      </button>\n",
       "      \n",
       "  <style>\n",
       "    .colab-df-container {\n",
       "      display:flex;\n",
       "      flex-wrap:wrap;\n",
       "      gap: 12px;\n",
       "    }\n",
       "\n",
       "    .colab-df-convert {\n",
       "      background-color: #E8F0FE;\n",
       "      border: none;\n",
       "      border-radius: 50%;\n",
       "      cursor: pointer;\n",
       "      display: none;\n",
       "      fill: #1967D2;\n",
       "      height: 32px;\n",
       "      padding: 0 0 0 0;\n",
       "      width: 32px;\n",
       "    }\n",
       "\n",
       "    .colab-df-convert:hover {\n",
       "      background-color: #E2EBFA;\n",
       "      box-shadow: 0px 1px 2px rgba(60, 64, 67, 0.3), 0px 1px 3px 1px rgba(60, 64, 67, 0.15);\n",
       "      fill: #174EA6;\n",
       "    }\n",
       "\n",
       "    [theme=dark] .colab-df-convert {\n",
       "      background-color: #3B4455;\n",
       "      fill: #D2E3FC;\n",
       "    }\n",
       "\n",
       "    [theme=dark] .colab-df-convert:hover {\n",
       "      background-color: #434B5C;\n",
       "      box-shadow: 0px 1px 3px 1px rgba(0, 0, 0, 0.15);\n",
       "      filter: drop-shadow(0px 1px 2px rgba(0, 0, 0, 0.3));\n",
       "      fill: #FFFFFF;\n",
       "    }\n",
       "  </style>\n",
       "\n",
       "      <script>\n",
       "        const buttonEl =\n",
       "          document.querySelector('#df-e0fca9fb-2a38-408d-876a-01ed18fec4e8 button.colab-df-convert');\n",
       "        buttonEl.style.display =\n",
       "          google.colab.kernel.accessAllowed ? 'block' : 'none';\n",
       "\n",
       "        async function convertToInteractive(key) {\n",
       "          const element = document.querySelector('#df-e0fca9fb-2a38-408d-876a-01ed18fec4e8');\n",
       "          const dataTable =\n",
       "            await google.colab.kernel.invokeFunction('convertToInteractive',\n",
       "                                                     [key], {});\n",
       "          if (!dataTable) return;\n",
       "\n",
       "          const docLinkHtml = 'Like what you see? Visit the ' +\n",
       "            '<a target=\"_blank\" href=https://colab.research.google.com/notebooks/data_table.ipynb>data table notebook</a>'\n",
       "            + ' to learn more about interactive tables.';\n",
       "          element.innerHTML = '';\n",
       "          dataTable['output_type'] = 'display_data';\n",
       "          await google.colab.output.renderOutput(dataTable, element);\n",
       "          const docLink = document.createElement('div');\n",
       "          docLink.innerHTML = docLinkHtml;\n",
       "          element.appendChild(docLink);\n",
       "        }\n",
       "      </script>\n",
       "    </div>\n",
       "  </div>\n",
       "  "
      ],
      "text/plain": [
       "   review_id  ... user_suggestion\n",
       "0          1  ...               1\n",
       "1          2  ...               1\n",
       "2          3  ...               1\n",
       "3          4  ...               1\n",
       "4          5  ...               1\n",
       "\n",
       "[5 rows x 5 columns]"
      ]
     },
     "execution_count": 116,
     "metadata": {},
     "output_type": "execute_result"
    }
   ],
   "source": [
    "data=pd.read_csv('train.csv')\n",
    "data.head()"
   ]
  },
  {
   "cell_type": "code",
   "execution_count": 117,
   "metadata": {
    "colab": {
     "base_uri": "https://localhost:8080/"
    },
    "id": "P-o6LDYa5mdU",
    "outputId": "8d3902c9-c64b-44f5-a0ff-a5e9f57762b1"
   },
   "outputs": [
    {
     "data": {
      "text/plain": [
       "review_id            0\n",
       "title                0\n",
       "year               178\n",
       "user_review          0\n",
       "user_suggestion      0\n",
       "dtype: int64"
      ]
     },
     "execution_count": 117,
     "metadata": {},
     "output_type": "execute_result"
    }
   ],
   "source": [
    "data.isnull().sum()"
   ]
  },
  {
   "cell_type": "code",
   "execution_count": 118,
   "metadata": {
    "colab": {
     "base_uri": "https://localhost:8080/"
    },
    "id": "Iy28iPaa5Fnc",
    "outputId": "fafc727e-c413-4893-d148-929cecad0405"
   },
   "outputs": [
    {
     "data": {
      "text/plain": [
       "user_review        17494\n",
       "user_suggestion    17494\n",
       "dtype: int64"
      ]
     },
     "execution_count": 118,
     "metadata": {},
     "output_type": "execute_result"
    }
   ],
   "source": [
    "my_data=data[['user_review','user_suggestion']].dropna()\n",
    "my_data.count()"
   ]
  },
  {
   "cell_type": "code",
   "execution_count": 119,
   "metadata": {
    "colab": {
     "base_uri": "https://localhost:8080/",
     "height": 206
    },
    "id": "r7YETlM54K9p",
    "outputId": "8528a32a-433e-4e4e-add5-73c433f78998"
   },
   "outputs": [
    {
     "data": {
      "text/html": [
       "\n",
       "  <div id=\"df-da741989-2446-4ad8-b46f-b3d8d8196167\">\n",
       "    <div class=\"colab-df-container\">\n",
       "      <div>\n",
       "<style scoped>\n",
       "    .dataframe tbody tr th:only-of-type {\n",
       "        vertical-align: middle;\n",
       "    }\n",
       "\n",
       "    .dataframe tbody tr th {\n",
       "        vertical-align: top;\n",
       "    }\n",
       "\n",
       "    .dataframe thead th {\n",
       "        text-align: right;\n",
       "    }\n",
       "</style>\n",
       "<table border=\"1\" class=\"dataframe\">\n",
       "  <thead>\n",
       "    <tr style=\"text-align: right;\">\n",
       "      <th></th>\n",
       "      <th>user_review</th>\n",
       "      <th>user_suggestion</th>\n",
       "    </tr>\n",
       "  </thead>\n",
       "  <tbody>\n",
       "    <tr>\n",
       "      <th>0</th>\n",
       "      <td>I'm scared and hearing creepy voices.  So I'll...</td>\n",
       "      <td>1</td>\n",
       "    </tr>\n",
       "    <tr>\n",
       "      <th>1</th>\n",
       "      <td>Best game, more better than Sam Pepper's YouTu...</td>\n",
       "      <td>1</td>\n",
       "    </tr>\n",
       "    <tr>\n",
       "      <th>2</th>\n",
       "      <td>A littly iffy on the controls, but once you kn...</td>\n",
       "      <td>1</td>\n",
       "    </tr>\n",
       "    <tr>\n",
       "      <th>3</th>\n",
       "      <td>Great game, fun and colorful and all that.A si...</td>\n",
       "      <td>1</td>\n",
       "    </tr>\n",
       "    <tr>\n",
       "      <th>4</th>\n",
       "      <td>Not many games have the cute tag right next to...</td>\n",
       "      <td>1</td>\n",
       "    </tr>\n",
       "  </tbody>\n",
       "</table>\n",
       "</div>\n",
       "      <button class=\"colab-df-convert\" onclick=\"convertToInteractive('df-da741989-2446-4ad8-b46f-b3d8d8196167')\"\n",
       "              title=\"Convert this dataframe to an interactive table.\"\n",
       "              style=\"display:none;\">\n",
       "        \n",
       "  <svg xmlns=\"http://www.w3.org/2000/svg\" height=\"24px\"viewBox=\"0 0 24 24\"\n",
       "       width=\"24px\">\n",
       "    <path d=\"M0 0h24v24H0V0z\" fill=\"none\"/>\n",
       "    <path d=\"M18.56 5.44l.94 2.06.94-2.06 2.06-.94-2.06-.94-.94-2.06-.94 2.06-2.06.94zm-11 1L8.5 8.5l.94-2.06 2.06-.94-2.06-.94L8.5 2.5l-.94 2.06-2.06.94zm10 10l.94 2.06.94-2.06 2.06-.94-2.06-.94-.94-2.06-.94 2.06-2.06.94z\"/><path d=\"M17.41 7.96l-1.37-1.37c-.4-.4-.92-.59-1.43-.59-.52 0-1.04.2-1.43.59L10.3 9.45l-7.72 7.72c-.78.78-.78 2.05 0 2.83L4 21.41c.39.39.9.59 1.41.59.51 0 1.02-.2 1.41-.59l7.78-7.78 2.81-2.81c.8-.78.8-2.07 0-2.86zM5.41 20L4 18.59l7.72-7.72 1.47 1.35L5.41 20z\"/>\n",
       "  </svg>\n",
       "      </button>\n",
       "      \n",
       "  <style>\n",
       "    .colab-df-container {\n",
       "      display:flex;\n",
       "      flex-wrap:wrap;\n",
       "      gap: 12px;\n",
       "    }\n",
       "\n",
       "    .colab-df-convert {\n",
       "      background-color: #E8F0FE;\n",
       "      border: none;\n",
       "      border-radius: 50%;\n",
       "      cursor: pointer;\n",
       "      display: none;\n",
       "      fill: #1967D2;\n",
       "      height: 32px;\n",
       "      padding: 0 0 0 0;\n",
       "      width: 32px;\n",
       "    }\n",
       "\n",
       "    .colab-df-convert:hover {\n",
       "      background-color: #E2EBFA;\n",
       "      box-shadow: 0px 1px 2px rgba(60, 64, 67, 0.3), 0px 1px 3px 1px rgba(60, 64, 67, 0.15);\n",
       "      fill: #174EA6;\n",
       "    }\n",
       "\n",
       "    [theme=dark] .colab-df-convert {\n",
       "      background-color: #3B4455;\n",
       "      fill: #D2E3FC;\n",
       "    }\n",
       "\n",
       "    [theme=dark] .colab-df-convert:hover {\n",
       "      background-color: #434B5C;\n",
       "      box-shadow: 0px 1px 3px 1px rgba(0, 0, 0, 0.15);\n",
       "      filter: drop-shadow(0px 1px 2px rgba(0, 0, 0, 0.3));\n",
       "      fill: #FFFFFF;\n",
       "    }\n",
       "  </style>\n",
       "\n",
       "      <script>\n",
       "        const buttonEl =\n",
       "          document.querySelector('#df-da741989-2446-4ad8-b46f-b3d8d8196167 button.colab-df-convert');\n",
       "        buttonEl.style.display =\n",
       "          google.colab.kernel.accessAllowed ? 'block' : 'none';\n",
       "\n",
       "        async function convertToInteractive(key) {\n",
       "          const element = document.querySelector('#df-da741989-2446-4ad8-b46f-b3d8d8196167');\n",
       "          const dataTable =\n",
       "            await google.colab.kernel.invokeFunction('convertToInteractive',\n",
       "                                                     [key], {});\n",
       "          if (!dataTable) return;\n",
       "\n",
       "          const docLinkHtml = 'Like what you see? Visit the ' +\n",
       "            '<a target=\"_blank\" href=https://colab.research.google.com/notebooks/data_table.ipynb>data table notebook</a>'\n",
       "            + ' to learn more about interactive tables.';\n",
       "          element.innerHTML = '';\n",
       "          dataTable['output_type'] = 'display_data';\n",
       "          await google.colab.output.renderOutput(dataTable, element);\n",
       "          const docLink = document.createElement('div');\n",
       "          docLink.innerHTML = docLinkHtml;\n",
       "          element.appendChild(docLink);\n",
       "        }\n",
       "      </script>\n",
       "    </div>\n",
       "  </div>\n",
       "  "
      ],
      "text/plain": [
       "                                         user_review  user_suggestion\n",
       "0  I'm scared and hearing creepy voices.  So I'll...                1\n",
       "1  Best game, more better than Sam Pepper's YouTu...                1\n",
       "2  A littly iffy on the controls, but once you kn...                1\n",
       "3  Great game, fun and colorful and all that.A si...                1\n",
       "4  Not many games have the cute tag right next to...                1"
      ]
     },
     "execution_count": 119,
     "metadata": {},
     "output_type": "execute_result"
    }
   ],
   "source": [
    "my_data.head()"
   ]
  },
  {
   "cell_type": "code",
   "execution_count": 120,
   "metadata": {
    "colab": {
     "base_uri": "https://localhost:8080/"
    },
    "id": "MD6i09yC4LAe",
    "outputId": "f80322b7-129b-4360-953b-304b75d4d1b1"
   },
   "outputs": [
    {
     "data": {
      "text/plain": [
       "1    9968\n",
       "0    7526\n",
       "Name: user_suggestion, dtype: int64"
      ]
     },
     "execution_count": 120,
     "metadata": {},
     "output_type": "execute_result"
    }
   ],
   "source": [
    "my_data['user_suggestion'].value_counts()"
   ]
  },
  {
   "cell_type": "code",
   "execution_count": 121,
   "metadata": {
    "colab": {
     "base_uri": "https://localhost:8080/",
     "height": 446
    },
    "id": "pDGYC39J4LDU",
    "outputId": "10ad71bf-f63d-4db8-f9e8-d8a7325ccad1"
   },
   "outputs": [
    {
     "data": {
      "text/plain": [
       "<seaborn.axisgrid.FacetGrid at 0x7fb3fc95aad0>"
      ]
     },
     "execution_count": 121,
     "metadata": {},
     "output_type": "execute_result"
    },
    {
     "data": {
      "image/png": "[encoded data removed]",
      "text/plain": [
       "<Figure size 648x432 with 1 Axes>"
      ]
     },
     "metadata": {},
     "output_type": "display_data"
    }
   ],
   "source": [
    "sns.factorplot(x='user_suggestion',data=my_data,kind='count',size=6,aspect=1.5,palette='gist_rainbow')"
   ]
  },
  {
   "cell_type": "code",
   "execution_count": 122,
   "metadata": {
    "id": "NyCAvwO46Q97"
   },
   "outputs": [],
   "source": [
    "#!spacy download en_core_web_md "
   ]
  },
  {
   "cell_type": "code",
   "execution_count": 123,
   "metadata": {
    "colab": {
     "base_uri": "https://localhost:8080/"
    },
    "id": "Q5D_irtg6-Rw",
    "outputId": "3464700e-ea34-45e6-f019-b288873a856f"
   },
   "outputs": [
    {
     "data": {
      "text/plain": [
       "['tagger', 'parser', 'ner']"
      ]
     },
     "execution_count": 123,
     "metadata": {},
     "output_type": "execute_result"
    }
   ],
   "source": [
    "nlp=spacy.load('en_core_web_sm')\n",
    "nlp.pipe_names"
   ]
  },
  {
   "cell_type": "markdown",
   "metadata": {
    "id": "PQvg_MJk_Acd"
   },
   "source": [
    "SpaCy makes custom text classification structured and convenient through the textcat component. Text classification is often used in situations like segregating movie reviews, hotel reviews, news data, primary topic of the text, classifying customer support emails based on complaint type etc."
   ]
  },
  {
   "cell_type": "code",
   "execution_count": 124,
   "metadata": {
    "colab": {
     "base_uri": "https://localhost:8080/"
    },
    "id": "DYfuxZpq-5Jf",
    "outputId": "d3009710-490f-4d2d-c8c7-f0ec030beead"
   },
   "outputs": [
    {
     "data": {
      "text/plain": [
       "['tagger', 'parser', 'ner', 'textcat']"
      ]
     },
     "execution_count": 124,
     "metadata": {},
     "output_type": "execute_result"
    }
   ],
   "source": [
    "textcat=nlp.create_pipe('textcat',config={'exclusive_classes':True,'architecture':'bow'})\n",
    "nlp.add_pipe(textcat,last=True)\n",
    "nlp.pipe_names"
   ]
  },
  {
   "cell_type": "markdown",
   "metadata": {
    "id": "RsluoKAP_fW3"
   },
   "source": [
    "RECOMMENDED Label for buying the game DON'T BUY Label for don't buy the game"
   ]
  },
  {
   "cell_type": "code",
   "execution_count": 125,
   "metadata": {
    "colab": {
     "base_uri": "https://localhost:8080/"
    },
    "id": "6RwH7bED-5Nb",
    "outputId": "674db5c6-7e64-4781-ffcc-63337259fba4"
   },
   "outputs": [
    {
     "data": {
      "text/plain": [
       "1"
      ]
     },
     "execution_count": 125,
     "metadata": {},
     "output_type": "execute_result"
    }
   ],
   "source": [
    "textcat.add_label('RECOMMENDED')\n",
    "textcat.add_label(\"DON'T BUY\")"
   ]
  },
  {
   "cell_type": "code",
   "execution_count": 126,
   "metadata": {
    "colab": {
     "base_uri": "https://localhost:8080/"
    },
    "id": "C-eRdutF-5TO",
    "outputId": "d1cba2df-4470-4323-afdf-652fe691f3aa"
   },
   "outputs": [
    {
     "data": {
      "text/plain": [
       "[(\"I'm scared and hearing creepy voices.  So I'll pause for a moment and write a review while I wait for my heart beat to return to atleast somewhat calmer times.  This game is adorable and creepy like my happy tree friends but with the graphics sceme of my childhood (but more bubble and 'clean').  Hello 1990's.What charactes there are (that isnot trying to kill me) were likable and a bit odd.  I did do a few noob things though, such as:Oh look a class room full of ghosts from dead children, lets shine my flashlight on them and stand there staring at them..Or, hmm creepy music, I'll turn around and see if I can see what's chasing me.Never before in a game have I been this afraid of finding a locked door.\",\n",
       "  1),\n",
       " (\"Best game, more better than Sam Pepper's YouTube account. 10/10What you'll need to play:A computerSome extra pants.Pros:Scary as hell.Fun.Adventure.Spooky.Did I forgot to mention that its scary as hell?You'll get more pants/briefs in your wardrobe.Time consuming if you're bored.Cons:Buying pants/briefs. You haven't downloaded it yet.\",\n",
       "  1),\n",
       " (\"A littly iffy on the controls, but once you know how to play, very easy to master. I've made it to floor 1000 before, but due to certain circumstances was unable to finish. Was not game related, don't worry, not a bug/glitch or antyhing.I highly recommend this for casual play, maybe with a friend or two watching. Hilarity ensues, especially once you hit floor 150. Have fun my fellow fleshlings!\",\n",
       "  1),\n",
       " (\"Great game, fun and colorful and all that.A side note, though: When are we getting windowed mode? My computer hates fullscreen so.... yeah. The computer doesn't like to run this. Shame, because this is really enjoyable. But until then, I guess I'll settle for more Skyrim. Cheers!\",\n",
       "  1),\n",
       " ('Not many games have the cute tag right next to the horror tag on Steam.I first played this game in late 2014 and coming back to it for the first time since. This game is so good for it being free, take advantage and experience it. Try and get to  room 1000 or as close as you can. The further you progress the darker the game becomes.',\n",
       "  1),\n",
       " (\"Early Access ReviewIt's pretty cute at first, but then later gets horrifying and it really does jumpscare! The specimen scared me more! Still enjoyable and worth playing, though. Great and well-made game!10/10\",\n",
       "  1),\n",
       " (\"Great game. it's a cute little horror game that progressively gets darker and scarier. It has a sense of humor too! (I've played it a little but I have watched several people play it and I love it!)\",\n",
       "  1),\n",
       " (\"Spooky's Jump Scare Mansion is a Free Retro maze game with jump scares and death.  It worked on Win 10, looked ok, played ok, sounded ok.  I took a wrong turn somehow and keep getting killed by a ghostly creature around room 61, i guess i need to restart and take a different route.  Has a retro look, sort of like Castle Wolfenstein or Doom.   Has creepy music and sounds.  It has 1,000 rooms to go through.  Try this game, you might like it.For more info:https://www.youtube.com/watch?v=4mKsY6rVdDohttps://www.youtube.com/watch?v=G3olm3IprwQhttps://www.youtube.com/watch?v=VZEJVpaRhkIhttp://www.polygon.com/2015/4/27/8502907/spookys-house-of-jump-scares-gameplay-overview-videohttps://www.rockpapershotgun.com/2016/01/14/spookys-house-of-jump-scares-free-game/#more-340713http://www.indiedb.com/games/spookys-house-of-jump-scares/reviewshttp://www.bagogames.com/spookier-meets-eye-spookys-house-jump-scares-review/ \",\n",
       "  1),\n",
       " (\"Somewhere between light hearted, happy parody and being afraid of the dark lies Spooky's House of Jump Scares. You are tasked with the daunting duty of surviving one thousand rooms in this endless first person perspective runner. Each room is no more than a few seconds thanks to a sprint key and the fact that each door counts as a new room. Even then one thousand rooms is still a feat against tedium and needless repetition. There are still things every fifteen or so rooms to keep your interest and at the end of fifty rooms you'll find a save point, but nothing can save you from permanent death at the hands of the foul creatures that live within.On the surface the game has a clean, chipper almost cartoon low budget charm to it. Jump scares are rare and at first it comes in the form of adorable cardboard cutouts of pumpkins, ghosts and skeletons that pop out of the wall accompanied by a sound. Some of the sounds are silly and unfitting other times its screeches to drive chills down your spine. The game excels in the sound department and makes good use of music, ambient sounds and foot steps following you.As you delve deeper through the doors of this dank dungeon, you'll uncover more frightening things and points of intreege. There are plenty of written notes here and there. A few times you'll need to search for a key in a different room, but the other ninety-nine percent of the game is leaving rooms behind forever.The themes of the rooms begin to change from the mundane almost Wolfenstien 3D-esque corridors to metal asylum rooms that give you a flashlight to find your way through. There are purple dungeons, green sewers with glowing scum. Some rooms are coated with slime to slow you own while others have holes in the ceiling as if to give you a feeling of dread that something could pop out.There are a limited amount of rooms and I started to memorize them all. Even the game's crescendo encounters in a vacant room with walkways. There's no way to fall into the dark chasms, it acts as if they were walls, but with this open room you get to see a specific creature that might be following you. Sometimes they can float over the gaps, other times they're stuck trying to walk at you from across the gap so you can get a good look at them when they're harmless.If they touch you three or so times you're dead. You have health that does replenish over time and these big moments are rare and easy to avoid. Just keep running and hope there are no locked doors! They only happen in specific rooms and sometimes the rooms are empty, but it still gives that dreadful feeling.You can tear through these rooms pretty quick about 350 of them in a 45 minute. Your stamina will deplete to give a monster the chance to catch you, but going through a door restores your will to run. Other than that waiting a few seconds will replenish your stamina. Longer rooms hav1e limited visibility. The further out an area is the darker it gets.A few rooms have good diversions or tricks to them. Such as one that turns bright and you need to enter the correct combination of corridors signaled by chimes until you can see the door. Another room is endless darkness with a torch at the end, until its revealed that the torch is merely painted on a black wall. A few times you'll need to search an adjacent room for a key to the one you're in.Every fifty rooms, you take a moment to unwind in an elevator that reminds you to hang in there or have a coffee break. The game makes a good balance of calm moments for each of the few tense situations. Its what keeps you off kilter and never expecting anything. Every two hundred and fifty rooms offers a prize to you. What's in the box? Is it snakes? Is it a jack-in-the-box or is it a note?Truth be told I'm very goal oriented with video games and so Spooky missed its mark for me. The cardboard cutouts get in the way. Being chased by something means that it was no threat since it was already behind me. Perhaps in later rooms it gets more difficult, but this is just easy tedium.  Another room, another room, another room. Then knowing I have seven hundred more rooms and another two hour investment of endless running turns the game into a grind. There's no fear and its too long to endure even with save points. The game reuses its points of interest a few times since it recycles rooms.Another issue I have with the game is getting stuck on edges where I need to push away from a wall to get free and turn a corner. Its more than walls, its on the gaps too. I suppose this is acceptable for a scary game where you get chased, but I'm hung up on these hang ups.One interesting thing the game does have is a stabbing mini game where it looks like you're a ghost in a mall. Its a good diversion from the repetition. There's even a computer that shows you all the creatures in the house. Well most of them at least.The best selling point this game has is that its free. By no means does that make this a good game, but it makes it easier to accept. Its a game that brings you up with charm to tear you down with scares beyond the cheap cardboard cutouts that can litter a hallway every so often. Its just far too repetitive without that much dread or excitement.\",\n",
       "  0),\n",
       " (\"This game with its cute little out of the wall pop-ups that scared the living light out of me I like it very much I haven't played it lately but this is a very good game, I like how its a funny jump scare game and it is very very fun but the story is pretty sad. so good luck and have fun in the rooms :D\",\n",
       "  1)]"
      ]
     },
     "execution_count": 126,
     "metadata": {},
     "output_type": "execute_result"
    }
   ],
   "source": [
    "my_data['tuples']=data.apply(lambda x:(x['user_review'],x['user_suggestion']),axis=1)\n",
    "training_data=my_data['tuples'].tolist()\n",
    "training_data[:10]"
   ]
  },
  {
   "cell_type": "code",
   "execution_count": 127,
   "metadata": {
    "id": "cA0XAuZzAimd"
   },
   "outputs": [],
   "source": [
    "import random\n",
    "\n",
    "def load_data(limit=0, split=0.8):\n",
    "    train_data=training_data\n",
    "    random.shuffle(train_data)\n",
    "    texts, labels = zip(*train_data)\n",
    "    cats = [{\"RECOMMENDED\": bool(y), \"DONT'T BUY\": not bool(y)} for y in labels]\n",
    "    split = int(len(train_data) * split)\n",
    "    return (texts[:split], cats[:split]), (texts[split:], cats[split:])\n"
   ]
  },
  {
   "cell_type": "code",
   "execution_count": 128,
   "metadata": {
    "colab": {
     "base_uri": "https://localhost:8080/"
    },
    "id": "B8J_sTysAipN",
    "outputId": "d1bcffca-e943-4c61-95a3-ac6ffe18f7e3"
   },
   "outputs": [
    {
     "data": {
      "text/plain": [
       "[(\"Early Access ReviewGreat sandbox game with easy to learn controls and mechanics. easy enough to farm resources and doesn't take too long to get what you need - although starting off is obviously slow to start as is every game. learn the blocks and craft your armour and weapons, build a fort and farm the creatures, start a farm of animals and veg then create your wonders of the world. start a community or explore servers to join one, the world is your oyster.\",\n",
       "  {'cats': {\"DONT'T BUY\": False, 'RECOMMENDED': True}}),\n",
       " ('It\\'s fairly new, and I\\'ve only played about an hour of it, but I really enjoy this. And I usually don\\'t enjoy trading card-style games. It\\'s somewhere between MTG, Hearthstone and Gwent. It has the 2 color mechanic from MTG, Lanes from Gwent, Polish, card-forging system and turn-growing Magicka (Magicka) from heathstone with an engrossing and full singleplayer campaign, Elder Scrolls Lore, its own spin on Trading card games and a lot of polish.PROS:-\"Free\"-Good Story (So far)-Great card art and sound design-A lot of polish-The Rune system is something I haven\\'t seen before-I love the idea of upgrading cards as you get repeats-The lane modifiers are interesting-Story choices actually have a tangable effect on the cards you\\'re given for your deck-Not too computer-intensive (I have a macbook, and didn\\'t notice any major hiccups)-Each race has a different effect for your deck, and pretty much all the races you are able to play in the main series games are represented, and are able to be changed at will-A lot of in game statistics recordingCONS:-Not many cards, so far (Already have a 5th of the regular set)-In-game transactions (Up to over 100 USD!)-A lot of animations-The art design for the campaign kind of looks like those cheap point+click adventures with the still image that they add effects to, but it works for the game-Settings menu in-game lackluster-Long loading times (might just be my machine)-Fairly lengthly unskippable tutorial-It is basically necessary to sign up for a free Bethesda account, if you don\\'t have one already (Its the first thing that comes up upon starting the game)OVERALL:Like I said before, I don\\'t usually don\\'t like Trading Card Games. I don\\'t like the meta of them of needing every card. However this one, with its thurough optional single player campaign and loads of polish really did hook me, even though the pitfalls of many TCGs are present. It is very early, so there aren\\'t many cards. I suggest you try it out. I was very surprised by this one. A lot of potential for this one, I really suggest everyone try it.',\n",
       "  {'cats': {\"DONT'T BUY\": False, 'RECOMMENDED': True}}),\n",
       " (\"Early Access ReviewThis game used to be pretty great with the potential to be much better. Que developers that don't give a rats♥♥♥♥♥about the core community and then you have this abomination. I was with this game since week 1 and the product we have now would have never interested me back then. Just stay away guys.\",\n",
       "  {'cats': {\"DONT'T BUY\": True, 'RECOMMENDED': False}}),\n",
       " ('One of my friends got me into this game... I don\\'t think I want to be friends anymore... I am currently a level 4 foot soldier in the game... now don\\'t get me wrong being level 4 I\\'ve still had to grind through many many painful matches while I have my  pea shooter of a Gewer against LMGs, SMGs, Bolt Action Rifles, Tanks, Grenades and Getting run over by team mates 11 levels higher than me because they just don\\'t care. Why, you might even ask \"how is it that you are level 4 facing/playing with level 15s?\" well it\\'s simple to the point of being painful. I am apparently good at this game?? So I get matchmaking GOLD???? The friend that got me into this said I should never be in Gold matchmaking at my level and yet I am. To him Gold mm is considdered the \"Pro matchmaking\" and its \"for all of the longtime players\" So in the end all I have to say is if you don\\'t enjoy LITERALLY NOT STANDING A CHANCE AGAINST THE ENEMY, then don\\'t down load this game. It\\'s free, yet, that\\'s overpriced...',\n",
       "  {'cats': {\"DONT'T BUY\": True, 'RECOMMENDED': False}}),\n",
       " (\"Early Access ReviewMeh, only open servers are in russia so there'sâ™¥â™¥â™¥â™¥â™¥â™¥loads of lag for anyone not from there also the game is really damn easy. http://prntscr.com/8ojhfg \",\n",
       "  {'cats': {\"DONT'T BUY\": True, 'RECOMMENDED': False}}),\n",
       " (\"I used to play this game for a long time, nearly since it came out. I took a break from it for about 6 months and coming back it is impossible to win many games in Card Battles now. It is impossible to counter people who have those power cards and other high power card when you need to get 100 victories in some cases to unlock the cards. I can't see myself getting that far anytime soon. Since I was not active I couldn't unlock them for the cheaper price, and now I suffer and can't get anywhere now.The game used to be fun. But if you are just starting off expect to not win too often in card battles.Pros (Before Card Battles)+Easy to progress and unlock everything+FunCons (Before Card Battles)-Repetitive strategies-HackersPros (After Card Battles)+New gamemodes with new strategies to come up with+The bad players keep getting worseCons (After Card Battles)-Hard to unlock cards if you don't unlock them when they first come out-Impossible to counter cards (Like Kidnap, and especially when you don't have those cards)-The good players keep getting better\",\n",
       "  {'cats': {\"DONT'T BUY\": True, 'RECOMMENDED': False}}),\n",
       " ('Could it be called a puzzle game?I dunno, but its kinda fun, though nearly all the guns are locked behind Real money or hard to earn ingame currency, youre only really going to be able to play with about 7 guns and a human skeleton',\n",
       "  {'cats': {\"DONT'T BUY\": False, 'RECOMMENDED': True}}),\n",
       " (\"Early Access ReviewThe game is a straight forward non-gimmicky(no building as in Fortnite, no forging equipment as Realm Royale) battle royale. It has some fresh ideas like all the players spawning at the same time on the map, not flying in at trying to land before the others. You have a pistol/shotgun from the start so you are not completely on the mercy of the RNG weapon spawns. Good guns are relatively easy to find. The decreasing of the playing area is done by cutting off sectors from the map and not with the usual shrinking circle. At the end it only matters if you are in the helicopter which leaves the very slight possibility that you might win without killing anyone. The system requirements are very reasonable and the game runs OK most of the time. The whole thing seems to be very well thought out by the developers.What I do not like is the controls. They feel kind of wooden. The shooting also feels off which is my biggest complaint. That being said it is free to play and I haven't noticed any pay to win mechanics so it gets my approval as a whole.\",\n",
       "  {'cats': {\"DONT'T BUY\": False, 'RECOMMENDED': True}}),\n",
       " ('Best race sim EVER, better than Assetto Corsa, Better than Project Cars, better than Automobilista, Better than Rfactor2 better thank iRacing, Raceroom is THE BEST RACE SIM EVER MADE !!!!!!!',\n",
       "  {'cats': {\"DONT'T BUY\": False, 'RECOMMENDED': True}}),\n",
       " ('Early Access ReviewDon\\'t get me wrong. Overall game is great.But there are a couple of things makes me real sick. I like to play destruction airborne, capture modes. In destruction mode a person takes the sniper rifle, such as blazer , Dragunov,m107a1 standing same spot whole game, doesn\\'t do any destruction to the crates or never used parachute, he just trying to kill other players same place! I totally bored using a smoke grenade over and over again but that kind of noob never use any other weapon and some idiots call this a tactic. Second thing, people writing their mother tongue in waiting list chat! I warning  them so many times, there are other people here from different countries but they won\\'t listen and they Insist to talk their own language! Doesn\\'t care to use whisper chat or clan chat.As I said before have no problem with this game.But some \"players\" makes me angry.(Talking about European server)',\n",
       "  {'cats': {\"DONT'T BUY\": True, 'RECOMMENDED': False}})]"
      ]
     },
     "execution_count": 128,
     "metadata": {},
     "output_type": "execute_result"
    }
   ],
   "source": [
    "n_texts=13995\n",
    "(train_texts, train_cats), (dev_texts, dev_cats) = load_data(limit=n_texts)\n",
    "train_data = list(zip(train_texts,[{'cats': cats} for cats in train_cats]))\n",
    "train_data[:10]"
   ]
  },
  {
   "cell_type": "code",
   "execution_count": 129,
   "metadata": {
    "colab": {
     "base_uri": "https://localhost:8080/"
    },
    "id": "dn8eoN4LE5MA",
    "outputId": "09141a1c-69f4-4245-f3c7-0222f6f68b81"
   },
   "outputs": [
    {
     "name": "stdout",
     "output_type": "stream",
     "text": [
      "Training the model...\n"
     ]
    }
   ],
   "source": [
    "from spacy.util import minibatch, compounding\n",
    "n_iter=4\n",
    "other_pipes = [pipe for pipe in nlp.pipe_names if pipe != 'textcat']\n",
    "with nlp.disable_pipes(*other_pipes):  \n",
    "    optimizer = nlp.begin_training()\n",
    "\n",
    "    print(\"Training the model...\")\n",
    "\n",
    "    for i in range(n_iter):\n",
    "        losses = {}\n",
    "        batches = minibatch(train_data, size=compounding(4., 32., 1.001))\n",
    "        for batch in batches:\n",
    "            texts, annotations = zip(*batch)\n",
    "            nlp.update(texts, annotations, sgd=optimizer, drop=0.2,losses=losses)"
   ]
  },
  {
   "cell_type": "code",
   "execution_count": 130,
   "metadata": {
    "colab": {
     "base_uri": "https://localhost:8080/"
    },
    "id": "j-7TConXAiui",
    "outputId": "9ef4d57c-3997-4ccb-b12e-1205d686ecae"
   },
   "outputs": [
    {
     "data": {
      "text/plain": [
       "{\"DON'T BUY\": 0.8032869696617126, 'RECOMMENDED': 0.19671300053596497}"
      ]
     },
     "execution_count": 130,
     "metadata": {},
     "output_type": "execute_result"
    }
   ],
   "source": [
    "review=\"the game was boring and we did not have any fun at all - I was very much so dissapointed\"\n",
    "doc=nlp(review)\n",
    "doc.cats "
   ]
  },
  {
   "cell_type": "code",
   "execution_count": 131,
   "metadata": {
    "colab": {
     "base_uri": "https://localhost:8080/"
    },
    "id": "tUElzUXcAixg",
    "outputId": "c35e23c9-0205-4707-d381-cb8ccd6f410b"
   },
   "outputs": [
    {
     "data": {
      "text/plain": [
       "{\"DON'T BUY\": 0.025572920218110085, 'RECOMMENDED': 0.9744271039962769}"
      ]
     },
     "execution_count": 131,
     "metadata": {},
     "output_type": "execute_result"
    }
   ],
   "source": [
    "new_review=\"best exciting flight simulator EVER!!!!!\"\n",
    "doc=nlp(new_review)\n",
    "doc.cats "
   ]
  },
  {
   "cell_type": "code",
   "execution_count": 132,
   "metadata": {
    "colab": {
     "base_uri": "https://localhost:8080/"
    },
    "id": "M_GJNMv3Ai0P",
    "outputId": "dd819950-91cc-47a1-ab46-f78addac2295"
   },
   "outputs": [
    {
     "data": {
      "text/plain": [
       "{\"DON'T BUY\": 0.051200661808252335, 'RECOMMENDED': 0.9487993121147156}"
      ]
     },
     "execution_count": 132,
     "metadata": {},
     "output_type": "execute_result"
    }
   ],
   "source": [
    "new_review=\"wow it was awesome!!!! i showed all my friends!! i did not regret spending money on this game!\"\n",
    "doc=nlp(new_review)\n",
    "doc.cats "
   ]
  },
  {
   "cell_type": "code",
   "execution_count": 133,
   "metadata": {
    "colab": {
     "base_uri": "https://localhost:8080/"
    },
    "id": "Yoae2aDzAi2r",
    "outputId": "3ddb2ce1-b4ec-4b99-da0b-77881641b332"
   },
   "outputs": [
    {
     "data": {
      "text/plain": [
       "{\"DON'T BUY\": 0.6132491827011108, 'RECOMMENDED': 0.38675081729888916}"
      ]
     },
     "execution_count": 133,
     "metadata": {},
     "output_type": "execute_result"
    }
   ],
   "source": [
    "new_review=\"It is not a good game, we thought we would have more fun but it was too long and we never finished till the end. I admit it was more fun than the first part reeased last year\"\n",
    "doc=nlp(new_review)\n",
    "doc.cats "
   ]
  }
 ],
 "metadata": {
  "accelerator": "GPU",
  "colab": {
   "collapsed_sections": [],
   "name": "Text _classification_ Review.ipynb",
   "provenance": []
  },
  "kernelspec": {
   "display_name": "Python 3",
   "name": "python3"
  },
  "language_info": {
   "name": "python"
  }
 },
 "nbformat": 4,
 "nbformat_minor": 0
}
